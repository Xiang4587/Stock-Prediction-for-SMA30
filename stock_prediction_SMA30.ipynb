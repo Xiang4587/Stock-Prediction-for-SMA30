{
 "cells": [
  {
   "cell_type": "code",
   "execution_count": 100,
   "metadata": {},
   "outputs": [],
   "source": [
    "import pandas as pd\n",
    "import numpy as np\n",
    "from sklearn.preprocessing import MinMaxScaler\n",
    "from keras.models import Sequential\n",
    "from keras.layers import Dense, Dropout, Activation, Flatten, LSTM, TimeDistributed, RepeatVector\n",
    "from keras.layers.normalization import BatchNormalization\n",
    "from keras.optimizers import Adam\n",
    "from keras.callbacks import EarlyStopping, ModelCheckpoint\n",
    "import matplotlib.pyplot as plt\n",
    "%matplotlib inline"
   ]
  },
  {
   "cell_type": "code",
   "execution_count": 101,
   "metadata": {},
   "outputs": [
    {
     "data": {
      "text/html": [
       "<div>\n",
       "<style>\n",
       "    .dataframe thead tr:only-child th {\n",
       "        text-align: right;\n",
       "    }\n",
       "\n",
       "    .dataframe thead th {\n",
       "        text-align: left;\n",
       "    }\n",
       "\n",
       "    .dataframe tbody tr th {\n",
       "        vertical-align: top;\n",
       "    }\n",
       "</style>\n",
       "<table border=\"1\" class=\"dataframe\">\n",
       "  <thead>\n",
       "    <tr style=\"text-align: right;\">\n",
       "      <th></th>\n",
       "      <th>Date</th>\n",
       "      <th>Open</th>\n",
       "      <th>High</th>\n",
       "      <th>Low</th>\n",
       "      <th>Close</th>\n",
       "      <th>Adj Close</th>\n",
       "      <th>Volume</th>\n",
       "    </tr>\n",
       "  </thead>\n",
       "  <tbody>\n",
       "    <tr>\n",
       "      <th>0</th>\n",
       "      <td>1993-01-29</td>\n",
       "      <td>43.96875</td>\n",
       "      <td>43.96875</td>\n",
       "      <td>43.75000</td>\n",
       "      <td>43.93750</td>\n",
       "      <td>26.299288</td>\n",
       "      <td>1003200</td>\n",
       "    </tr>\n",
       "    <tr>\n",
       "      <th>1</th>\n",
       "      <td>1993-02-01</td>\n",
       "      <td>43.96875</td>\n",
       "      <td>44.25000</td>\n",
       "      <td>43.96875</td>\n",
       "      <td>44.25000</td>\n",
       "      <td>26.486324</td>\n",
       "      <td>480500</td>\n",
       "    </tr>\n",
       "    <tr>\n",
       "      <th>2</th>\n",
       "      <td>1993-02-02</td>\n",
       "      <td>44.21875</td>\n",
       "      <td>44.37500</td>\n",
       "      <td>44.12500</td>\n",
       "      <td>44.34375</td>\n",
       "      <td>26.542448</td>\n",
       "      <td>201300</td>\n",
       "    </tr>\n",
       "    <tr>\n",
       "      <th>3</th>\n",
       "      <td>1993-02-03</td>\n",
       "      <td>44.40625</td>\n",
       "      <td>44.84375</td>\n",
       "      <td>44.37500</td>\n",
       "      <td>44.81250</td>\n",
       "      <td>26.822998</td>\n",
       "      <td>529400</td>\n",
       "    </tr>\n",
       "    <tr>\n",
       "      <th>4</th>\n",
       "      <td>1993-02-04</td>\n",
       "      <td>44.96875</td>\n",
       "      <td>45.09375</td>\n",
       "      <td>44.46875</td>\n",
       "      <td>45.00000</td>\n",
       "      <td>26.935240</td>\n",
       "      <td>531500</td>\n",
       "    </tr>\n",
       "  </tbody>\n",
       "</table>\n",
       "</div>"
      ],
      "text/plain": [
       "         Date      Open      High       Low     Close  Adj Close   Volume\n",
       "0  1993-01-29  43.96875  43.96875  43.75000  43.93750  26.299288  1003200\n",
       "1  1993-02-01  43.96875  44.25000  43.96875  44.25000  26.486324   480500\n",
       "2  1993-02-02  44.21875  44.37500  44.12500  44.34375  26.542448   201300\n",
       "3  1993-02-03  44.40625  44.84375  44.37500  44.81250  26.822998   529400\n",
       "4  1993-02-04  44.96875  45.09375  44.46875  45.00000  26.935240   531500"
      ]
     },
     "execution_count": 101,
     "metadata": {},
     "output_type": "execute_result"
    }
   ],
   "source": [
    "DF = pd.read_csv(\"SPY.csv\")\n",
    "DF.head()"
   ]
  },
  {
   "cell_type": "markdown",
   "metadata": {},
   "source": [
    "## Data preprocessing"
   ]
  },
  {
   "cell_type": "markdown",
   "metadata": {},
   "source": [
    "### Feature Augumentation"
   ]
  },
  {
   "cell_type": "code",
   "execution_count": 102,
   "metadata": {
    "collapsed": true
   },
   "outputs": [],
   "source": [
    "def featureAug(df):\n",
    "    dt = pd.to_datetime(df[\"Date\"])\n",
    "    Y = []\n",
    "    M = []\n",
    "    date = []\n",
    "    day = []\n",
    "    for i in range(len(dt)):\n",
    "        Y.append(dt[i].year)\n",
    "        M.append(dt[i].month)\n",
    "        date.append(dt[i].day)\n",
    "        day.append(dt[i].weekday())\n",
    "    df['Year'] = Y\n",
    "    df['Month'] = M\n",
    "    df['date'] = date\n",
    "    df['Day'] = day \n",
    "    return df"
   ]
  },
  {
   "cell_type": "code",
   "execution_count": 229,
   "metadata": {
    "scrolled": true
   },
   "outputs": [
    {
     "data": {
      "text/html": [
       "<div>\n",
       "<style>\n",
       "    .dataframe thead tr:only-child th {\n",
       "        text-align: right;\n",
       "    }\n",
       "\n",
       "    .dataframe thead th {\n",
       "        text-align: left;\n",
       "    }\n",
       "\n",
       "    .dataframe tbody tr th {\n",
       "        vertical-align: top;\n",
       "    }\n",
       "</style>\n",
       "<table border=\"1\" class=\"dataframe\">\n",
       "  <thead>\n",
       "    <tr style=\"text-align: right;\">\n",
       "      <th></th>\n",
       "      <th>Date</th>\n",
       "      <th>Open</th>\n",
       "      <th>High</th>\n",
       "      <th>Low</th>\n",
       "      <th>Close</th>\n",
       "      <th>Adj Close</th>\n",
       "      <th>Volume</th>\n",
       "      <th>Year</th>\n",
       "      <th>Month</th>\n",
       "      <th>date</th>\n",
       "      <th>Day</th>\n",
       "    </tr>\n",
       "  </thead>\n",
       "  <tbody>\n",
       "    <tr>\n",
       "      <th>0</th>\n",
       "      <td>1993-01-29</td>\n",
       "      <td>43.96875</td>\n",
       "      <td>43.96875</td>\n",
       "      <td>43.75000</td>\n",
       "      <td>43.93750</td>\n",
       "      <td>26.299288</td>\n",
       "      <td>1003200</td>\n",
       "      <td>1993</td>\n",
       "      <td>1</td>\n",
       "      <td>29</td>\n",
       "      <td>4</td>\n",
       "    </tr>\n",
       "    <tr>\n",
       "      <th>1</th>\n",
       "      <td>1993-02-01</td>\n",
       "      <td>43.96875</td>\n",
       "      <td>44.25000</td>\n",
       "      <td>43.96875</td>\n",
       "      <td>44.25000</td>\n",
       "      <td>26.486324</td>\n",
       "      <td>480500</td>\n",
       "      <td>1993</td>\n",
       "      <td>2</td>\n",
       "      <td>1</td>\n",
       "      <td>0</td>\n",
       "    </tr>\n",
       "    <tr>\n",
       "      <th>2</th>\n",
       "      <td>1993-02-02</td>\n",
       "      <td>44.21875</td>\n",
       "      <td>44.37500</td>\n",
       "      <td>44.12500</td>\n",
       "      <td>44.34375</td>\n",
       "      <td>26.542448</td>\n",
       "      <td>201300</td>\n",
       "      <td>1993</td>\n",
       "      <td>2</td>\n",
       "      <td>2</td>\n",
       "      <td>1</td>\n",
       "    </tr>\n",
       "    <tr>\n",
       "      <th>3</th>\n",
       "      <td>1993-02-03</td>\n",
       "      <td>44.40625</td>\n",
       "      <td>44.84375</td>\n",
       "      <td>44.37500</td>\n",
       "      <td>44.81250</td>\n",
       "      <td>26.822998</td>\n",
       "      <td>529400</td>\n",
       "      <td>1993</td>\n",
       "      <td>2</td>\n",
       "      <td>3</td>\n",
       "      <td>2</td>\n",
       "    </tr>\n",
       "    <tr>\n",
       "      <th>4</th>\n",
       "      <td>1993-02-04</td>\n",
       "      <td>44.96875</td>\n",
       "      <td>45.09375</td>\n",
       "      <td>44.46875</td>\n",
       "      <td>45.00000</td>\n",
       "      <td>26.935240</td>\n",
       "      <td>531500</td>\n",
       "      <td>1993</td>\n",
       "      <td>2</td>\n",
       "      <td>4</td>\n",
       "      <td>3</td>\n",
       "    </tr>\n",
       "  </tbody>\n",
       "</table>\n",
       "</div>"
      ],
      "text/plain": [
       "         Date      Open      High       Low     Close  Adj Close   Volume  \\\n",
       "0  1993-01-29  43.96875  43.96875  43.75000  43.93750  26.299288  1003200   \n",
       "1  1993-02-01  43.96875  44.25000  43.96875  44.25000  26.486324   480500   \n",
       "2  1993-02-02  44.21875  44.37500  44.12500  44.34375  26.542448   201300   \n",
       "3  1993-02-03  44.40625  44.84375  44.37500  44.81250  26.822998   529400   \n",
       "4  1993-02-04  44.96875  45.09375  44.46875  45.00000  26.935240   531500   \n",
       "\n",
       "   Year  Month  date  Day  \n",
       "0  1993      1    29    4  \n",
       "1  1993      2     1    0  \n",
       "2  1993      2     2    1  \n",
       "3  1993      2     3    2  \n",
       "4  1993      2     4    3  "
      ]
     },
     "execution_count": 229,
     "metadata": {},
     "output_type": "execute_result"
    }
   ],
   "source": [
    "DF_aug = featureAug(DF)\n",
    "DF_aug.head()"
   ]
  },
  {
   "cell_type": "markdown",
   "metadata": {},
   "source": [
    "### Normalization"
   ]
  },
  {
   "cell_type": "code",
   "execution_count": 230,
   "metadata": {
    "collapsed": true
   },
   "outputs": [],
   "source": [
    "def normalize(df):\n",
    "    df = df.drop([\"Date\"], axis=1)\n",
    "    df_norm = df.apply(lambda x: (x - np.mean(x)) / (np.max(x) - np.min(x)))\n",
    "    return df_norm"
   ]
  },
  {
   "cell_type": "code",
   "execution_count": 231,
   "metadata": {
    "scrolled": true
   },
   "outputs": [
    {
     "data": {
      "text/html": [
       "<div>\n",
       "<style>\n",
       "    .dataframe thead tr:only-child th {\n",
       "        text-align: right;\n",
       "    }\n",
       "\n",
       "    .dataframe thead th {\n",
       "        text-align: left;\n",
       "    }\n",
       "\n",
       "    .dataframe tbody tr th {\n",
       "        vertical-align: top;\n",
       "    }\n",
       "</style>\n",
       "<table border=\"1\" class=\"dataframe\">\n",
       "  <thead>\n",
       "    <tr style=\"text-align: right;\">\n",
       "      <th></th>\n",
       "      <th>Open</th>\n",
       "      <th>High</th>\n",
       "      <th>Low</th>\n",
       "      <th>Close</th>\n",
       "      <th>Adj Close</th>\n",
       "      <th>Volume</th>\n",
       "      <th>Year</th>\n",
       "      <th>Month</th>\n",
       "      <th>date</th>\n",
       "      <th>Day</th>\n",
       "    </tr>\n",
       "  </thead>\n",
       "  <tbody>\n",
       "    <tr>\n",
       "      <th>0</th>\n",
       "      <td>-0.322916</td>\n",
       "      <td>-0.324495</td>\n",
       "      <td>-0.320323</td>\n",
       "      <td>-0.322485</td>\n",
       "      <td>-0.284866</td>\n",
       "      <td>-0.096167</td>\n",
       "      <td>-0.489081</td>\n",
       "      <td>-0.500655</td>\n",
       "      <td>0.442294</td>\n",
       "      <td>0.494903</td>\n",
       "    </tr>\n",
       "    <tr>\n",
       "      <th>1</th>\n",
       "      <td>-0.322916</td>\n",
       "      <td>-0.323543</td>\n",
       "      <td>-0.319580</td>\n",
       "      <td>-0.321425</td>\n",
       "      <td>-0.284264</td>\n",
       "      <td>-0.096767</td>\n",
       "      <td>-0.489081</td>\n",
       "      <td>-0.409746</td>\n",
       "      <td>-0.491039</td>\n",
       "      <td>-0.505097</td>\n",
       "    </tr>\n",
       "    <tr>\n",
       "      <th>2</th>\n",
       "      <td>-0.322067</td>\n",
       "      <td>-0.323120</td>\n",
       "      <td>-0.319050</td>\n",
       "      <td>-0.321108</td>\n",
       "      <td>-0.284083</td>\n",
       "      <td>-0.097088</td>\n",
       "      <td>-0.489081</td>\n",
       "      <td>-0.409746</td>\n",
       "      <td>-0.457706</td>\n",
       "      <td>-0.255097</td>\n",
       "    </tr>\n",
       "    <tr>\n",
       "      <th>3</th>\n",
       "      <td>-0.321430</td>\n",
       "      <td>-0.321534</td>\n",
       "      <td>-0.318202</td>\n",
       "      <td>-0.319518</td>\n",
       "      <td>-0.283179</td>\n",
       "      <td>-0.096711</td>\n",
       "      <td>-0.489081</td>\n",
       "      <td>-0.409746</td>\n",
       "      <td>-0.424373</td>\n",
       "      <td>-0.005097</td>\n",
       "    </tr>\n",
       "    <tr>\n",
       "      <th>4</th>\n",
       "      <td>-0.319520</td>\n",
       "      <td>-0.320689</td>\n",
       "      <td>-0.317884</td>\n",
       "      <td>-0.318882</td>\n",
       "      <td>-0.282817</td>\n",
       "      <td>-0.096709</td>\n",
       "      <td>-0.489081</td>\n",
       "      <td>-0.409746</td>\n",
       "      <td>-0.391039</td>\n",
       "      <td>0.244903</td>\n",
       "    </tr>\n",
       "  </tbody>\n",
       "</table>\n",
       "</div>"
      ],
      "text/plain": [
       "       Open      High       Low     Close  Adj Close    Volume      Year  \\\n",
       "0 -0.322916 -0.324495 -0.320323 -0.322485  -0.284866 -0.096167 -0.489081   \n",
       "1 -0.322916 -0.323543 -0.319580 -0.321425  -0.284264 -0.096767 -0.489081   \n",
       "2 -0.322067 -0.323120 -0.319050 -0.321108  -0.284083 -0.097088 -0.489081   \n",
       "3 -0.321430 -0.321534 -0.318202 -0.319518  -0.283179 -0.096711 -0.489081   \n",
       "4 -0.319520 -0.320689 -0.317884 -0.318882  -0.282817 -0.096709 -0.489081   \n",
       "\n",
       "      Month      date       Day  \n",
       "0 -0.500655  0.442294  0.494903  \n",
       "1 -0.409746 -0.491039 -0.505097  \n",
       "2 -0.409746 -0.457706 -0.255097  \n",
       "3 -0.409746 -0.424373 -0.005097  \n",
       "4 -0.409746 -0.391039  0.244903  "
      ]
     },
     "execution_count": 231,
     "metadata": {},
     "output_type": "execute_result"
    }
   ],
   "source": [
    "DF_re = normalize(DF_aug)\n",
    "DF_re.head()"
   ]
  },
  {
   "cell_type": "code",
   "execution_count": 232,
   "metadata": {},
   "outputs": [
    {
     "data": {
      "text/plain": [
       "6867"
      ]
     },
     "execution_count": 232,
     "metadata": {},
     "output_type": "execute_result"
    }
   ],
   "source": [
    "len(DF_re)"
   ]
  },
  {
   "cell_type": "markdown",
   "metadata": {},
   "source": [
    "### Simple Moving Average for 30 days"
   ]
  },
  {
   "cell_type": "code",
   "execution_count": 233,
   "metadata": {
    "collapsed": true
   },
   "outputs": [],
   "source": [
    "def MovingAvg(df, size):\n",
    "    i = 0\n",
    "    moving_avg = []\n",
    "    while i < len(df)-size+1:\n",
    "        this_size = df[i:i+size]\n",
    "        avg = sum(this_size)/size\n",
    "        moving_avg.append(avg)\n",
    "        i += 1\n",
    "    return moving_avg"
   ]
  },
  {
   "cell_type": "code",
   "execution_count": 234,
   "metadata": {
    "collapsed": true,
    "scrolled": false
   },
   "outputs": [],
   "source": [
    "DF_rrr = DF_re.drop([i for i in range(29)])\n",
    "DF_rrr = DF_rrr.reset_index()"
   ]
  },
  {
   "cell_type": "code",
   "execution_count": 235,
   "metadata": {
    "collapsed": true,
    "scrolled": true
   },
   "outputs": [],
   "source": [
    "SMA30 = MovingAvg(DF_re['Close'], 30)\n",
    "DF_rre = DF_re[29:].reset_index()\n",
    "DF_rre['SMA30'] = SMA30"
   ]
  },
  {
   "cell_type": "code",
   "execution_count": 333,
   "metadata": {
    "scrolled": true
   },
   "outputs": [
    {
     "name": "stdout",
     "output_type": "stream",
     "text": [
      "Data processed: 6838\n"
     ]
    },
    {
     "data": {
      "text/html": [
       "<div>\n",
       "<style>\n",
       "    .dataframe thead tr:only-child th {\n",
       "        text-align: right;\n",
       "    }\n",
       "\n",
       "    .dataframe thead th {\n",
       "        text-align: left;\n",
       "    }\n",
       "\n",
       "    .dataframe tbody tr th {\n",
       "        vertical-align: top;\n",
       "    }\n",
       "</style>\n",
       "<table border=\"1\" class=\"dataframe\">\n",
       "  <thead>\n",
       "    <tr style=\"text-align: right;\">\n",
       "      <th></th>\n",
       "      <th>index</th>\n",
       "      <th>Open</th>\n",
       "      <th>High</th>\n",
       "      <th>Low</th>\n",
       "      <th>Close</th>\n",
       "      <th>Adj Close</th>\n",
       "      <th>Volume</th>\n",
       "      <th>Year</th>\n",
       "      <th>Month</th>\n",
       "      <th>date</th>\n",
       "      <th>Day</th>\n",
       "      <th>SMA30</th>\n",
       "    </tr>\n",
       "  </thead>\n",
       "  <tbody>\n",
       "    <tr>\n",
       "      <th>0</th>\n",
       "      <td>29</td>\n",
       "      <td>-0.318777</td>\n",
       "      <td>-0.320266</td>\n",
       "      <td>-0.316717</td>\n",
       "      <td>-0.318565</td>\n",
       "      <td>-0.282636</td>\n",
       "      <td>-0.096580</td>\n",
       "      <td>-0.489081</td>\n",
       "      <td>-0.318837</td>\n",
       "      <td>-0.124373</td>\n",
       "      <td>0.494903</td>\n",
       "      <td>-0.320338</td>\n",
       "    </tr>\n",
       "    <tr>\n",
       "      <th>1</th>\n",
       "      <td>30</td>\n",
       "      <td>-0.319201</td>\n",
       "      <td>-0.319948</td>\n",
       "      <td>-0.315869</td>\n",
       "      <td>-0.317823</td>\n",
       "      <td>-0.282214</td>\n",
       "      <td>-0.096962</td>\n",
       "      <td>-0.489081</td>\n",
       "      <td>-0.318837</td>\n",
       "      <td>-0.024373</td>\n",
       "      <td>-0.505097</td>\n",
       "      <td>-0.320182</td>\n",
       "    </tr>\n",
       "    <tr>\n",
       "      <th>2</th>\n",
       "      <td>31</td>\n",
       "      <td>-0.318352</td>\n",
       "      <td>-0.319525</td>\n",
       "      <td>-0.315020</td>\n",
       "      <td>-0.317823</td>\n",
       "      <td>-0.282214</td>\n",
       "      <td>-0.097284</td>\n",
       "      <td>-0.489081</td>\n",
       "      <td>-0.318837</td>\n",
       "      <td>0.008961</td>\n",
       "      <td>-0.255097</td>\n",
       "      <td>-0.320062</td>\n",
       "    </tr>\n",
       "    <tr>\n",
       "      <th>3</th>\n",
       "      <td>32</td>\n",
       "      <td>-0.318565</td>\n",
       "      <td>-0.320160</td>\n",
       "      <td>-0.316187</td>\n",
       "      <td>-0.318776</td>\n",
       "      <td>-0.282757</td>\n",
       "      <td>-0.097294</td>\n",
       "      <td>-0.489081</td>\n",
       "      <td>-0.318837</td>\n",
       "      <td>0.042294</td>\n",
       "      <td>-0.005097</td>\n",
       "      <td>-0.319984</td>\n",
       "    </tr>\n",
       "    <tr>\n",
       "      <th>4</th>\n",
       "      <td>33</td>\n",
       "      <td>-0.318671</td>\n",
       "      <td>-0.319314</td>\n",
       "      <td>-0.315338</td>\n",
       "      <td>-0.317823</td>\n",
       "      <td>-0.282214</td>\n",
       "      <td>-0.097251</td>\n",
       "      <td>-0.489081</td>\n",
       "      <td>-0.318837</td>\n",
       "      <td>0.075627</td>\n",
       "      <td>0.244903</td>\n",
       "      <td>-0.319928</td>\n",
       "    </tr>\n",
       "  </tbody>\n",
       "</table>\n",
       "</div>"
      ],
      "text/plain": [
       "   index      Open      High       Low     Close  Adj Close    Volume  \\\n",
       "0     29 -0.318777 -0.320266 -0.316717 -0.318565  -0.282636 -0.096580   \n",
       "1     30 -0.319201 -0.319948 -0.315869 -0.317823  -0.282214 -0.096962   \n",
       "2     31 -0.318352 -0.319525 -0.315020 -0.317823  -0.282214 -0.097284   \n",
       "3     32 -0.318565 -0.320160 -0.316187 -0.318776  -0.282757 -0.097294   \n",
       "4     33 -0.318671 -0.319314 -0.315338 -0.317823  -0.282214 -0.097251   \n",
       "\n",
       "       Year     Month      date       Day     SMA30  \n",
       "0 -0.489081 -0.318837 -0.124373  0.494903 -0.320338  \n",
       "1 -0.489081 -0.318837 -0.024373 -0.505097 -0.320182  \n",
       "2 -0.489081 -0.318837  0.008961 -0.255097 -0.320062  \n",
       "3 -0.489081 -0.318837  0.042294 -0.005097 -0.319984  \n",
       "4 -0.489081 -0.318837  0.075627  0.244903 -0.319928  "
      ]
     },
     "execution_count": 333,
     "metadata": {},
     "output_type": "execute_result"
    }
   ],
   "source": [
    "print(\"Data processed:\", len(DF_rre))\n",
    "DF_rre.head()"
   ]
  },
  {
   "cell_type": "code",
   "execution_count": 337,
   "metadata": {
    "scrolled": true
   },
   "outputs": [
    {
     "data": {
      "image/png": "[encoded data removed]",
      "text/plain": [
       "<Figure size 800x400 with 1 Axes>"
      ]
     },
     "metadata": {},
     "output_type": "display_data"
    }
   ],
   "source": [
    "figure, ax = plt.subplots()\n",
    "plt.plot(DF_rre['Close'], label='Close')\n",
    "plt.plot(DF_rre['SMA30'], label='SMA30')\n",
    "figure.set_size_inches(8, 4)\n",
    "ax.legend(('Close', 'SMA30'), loc='best', framealpha=0.25, prop={'size': 'small', 'family': 'monospace'})\n",
    "\n",
    "ax.set_title('Trend')\n",
    "ax.set_xlabel('Date')\n",
    "ax.set_ylabel('value')\n",
    "\n",
    "ax.grid(True)\n",
    "figure.tight_layout()"
   ]
  },
  {
   "cell_type": "code",
   "execution_count": 326,
   "metadata": {
    "collapsed": true
   },
   "outputs": [],
   "source": [
    "k = np.array(DF_re.iloc[0:30])"
   ]
  },
  {
   "cell_type": "code",
   "execution_count": 239,
   "metadata": {},
   "outputs": [
    {
     "data": {
      "text/plain": [
       "(30, 10)"
      ]
     },
     "execution_count": 239,
     "metadata": {},
     "output_type": "execute_result"
    }
   ],
   "source": [
    "k.shape"
   ]
  },
  {
   "cell_type": "markdown",
   "metadata": {},
   "source": [
    "### Using the past 30 days as features to predict the T+29 SMA"
   ]
  },
  {
   "cell_type": "markdown",
   "metadata": {},
   "source": [
    "#### Features within 30 days include: Open, High, Low, Close, Adj Close, Volume, Year, Month, date, and Day"
   ]
  },
  {
   "cell_type": "code",
   "execution_count": 240,
   "metadata": {},
   "outputs": [
    {
     "data": {
      "text/plain": [
       "(6867, 10)"
      ]
     },
     "execution_count": 240,
     "metadata": {},
     "output_type": "execute_result"
    }
   ],
   "source": [
    "DF_re.shape"
   ]
  },
  {
   "cell_type": "code",
   "execution_count": 241,
   "metadata": {},
   "outputs": [
    {
     "data": {
      "text/plain": [
       "(6838, 12)"
      ]
     },
     "execution_count": 241,
     "metadata": {},
     "output_type": "execute_result"
    }
   ],
   "source": [
    "DF_rre.shape"
   ]
  },
  {
   "cell_type": "code",
   "execution_count": 242,
   "metadata": {
    "scrolled": false
   },
   "outputs": [
    {
     "name": "stdout",
     "output_type": "stream",
     "text": [
      "Input dim: (6809, 30, 10)\n",
      "Output dim: (6809, 1)\n"
     ]
    }
   ],
   "source": [
    "X = []\n",
    "Y = []\n",
    "for i in range(len(DF_rre)-29):\n",
    "    idx = DF_rre['index'][i]\n",
    "    X.append(np.array(DF_re.iloc[idx-29:idx+1]))\n",
    "    Y.append(DF_rre['SMA30'][i+29])\n",
    "X = np.array(X)\n",
    "Y = np.expand_dims(Y, axis=1)\n",
    "print(\"Input dim:\", X.shape)\n",
    "print(\"Output dim:\", Y.shape)"
   ]
  },
  {
   "cell_type": "markdown",
   "metadata": {},
   "source": [
    "### Split Data"
   ]
  },
  {
   "cell_type": "code",
   "execution_count": 243,
   "metadata": {
    "collapsed": true
   },
   "outputs": [],
   "source": [
    "def split(X, Y, rate):\n",
    "    total = X.shape[0]\n",
    "    X_train_val = X[:int(round(total*rate))]\n",
    "    Y_train_val = Y[:int(round(total*rate))]\n",
    "    last = total - int(round(total*rate))\n",
    "    X_test = X[-last:]\n",
    "    Y_test = Y[-last:]\n",
    "    return X_train_val, Y_train_val, X_test, Y_test"
   ]
  },
  {
   "cell_type": "code",
   "execution_count": 244,
   "metadata": {
    "collapsed": true
   },
   "outputs": [],
   "source": [
    "X_train_val, Y_train_val, X_test, Y_test = split(X,Y,0.85) ## training set 70%, validation set 15%, test set 15%\n",
    "X_train, Y_train, X_val, Y_val = split(X_train_val, Y_train_val, 0.7) # Split a portion as validation set\n",
    "#Y_train = Y_train[:,:,np.newaxis]\n",
    "#Y_val = Y_val[:,:,np.newaxis]"
   ]
  },
  {
   "cell_type": "code",
   "execution_count": 245,
   "metadata": {
    "scrolled": true
   },
   "outputs": [
    {
     "data": {
      "text/plain": [
       "((4052, 30, 10), (4052, 1))"
      ]
     },
     "execution_count": 245,
     "metadata": {},
     "output_type": "execute_result"
    }
   ],
   "source": [
    "X_train.shape, Y_train.shape"
   ]
  },
  {
   "cell_type": "markdown",
   "metadata": {},
   "source": [
    "## Build Model"
   ]
  },
  {
   "cell_type": "code",
   "execution_count": 288,
   "metadata": {},
   "outputs": [],
   "source": [
    "def LSTM_seq(shape):\n",
    "    model = Sequential()\n",
    "    model.add(LSTM(units=20, return_sequences=False, input_shape=(shape[1], shape[2])))\n",
    "    model.add(Dropout(0.2))\n",
    "        \n",
    "    # output shape: (1, 1)\n",
    "    model.add(Dense(units=1))\n",
    "    \n",
    "    model.compile(loss=\"mse\", optimizer=\"adam\", metrics=['mse'])\n",
    "    model.summary()\n",
    "    return model"
   ]
  },
  {
   "cell_type": "code",
   "execution_count": 289,
   "metadata": {
    "scrolled": true
   },
   "outputs": [
    {
     "name": "stdout",
     "output_type": "stream",
     "text": [
      "_________________________________________________________________\n",
      "Layer (type)                 Output Shape              Param #   \n",
      "=================================================================\n",
      "lstm_35 (LSTM)               (None, 20)                2480      \n",
      "_________________________________________________________________\n",
      "dropout_16 (Dropout)         (None, 20)                0         \n",
      "_________________________________________________________________\n",
      "dense_24 (Dense)             (None, 1)                 21        \n",
      "=================================================================\n",
      "Total params: 2,501\n",
      "Trainable params: 2,501\n",
      "Non-trainable params: 0\n",
      "_________________________________________________________________\n"
     ]
    }
   ],
   "source": [
    "model = LSTM_seq(X_train.shape)"
   ]
  },
  {
   "cell_type": "markdown",
   "metadata": {},
   "source": [
    "## Start training"
   ]
  },
  {
   "cell_type": "code",
   "execution_count": 290,
   "metadata": {
    "collapsed": true
   },
   "outputs": [],
   "source": [
    "# Hyperparameters\n",
    "epoch = 100\n",
    "batch_size = 64 \n",
    "early_stopping = EarlyStopping(monitor=\"loss\", patience=10, verbose=2, mode=\"auto\")"
   ]
  },
  {
   "cell_type": "code",
   "execution_count": 291,
   "metadata": {
    "scrolled": false
   },
   "outputs": [
    {
     "name": "stdout",
     "output_type": "stream",
     "text": [
      "Train on 4052 samples, validate on 1736 samples\n",
      "Epoch 1/100\n",
      "4052/4052 [==============================] - 3s 731us/step - loss: 0.0580 - mean_squared_error: 0.0580 - val_loss: 0.0303 - val_mean_squared_error: 0.0303\n",
      "Epoch 2/100\n",
      "4052/4052 [==============================] - 1s 362us/step - loss: 0.0098 - mean_squared_error: 0.0098 - val_loss: 0.0158 - val_mean_squared_error: 0.0158\n",
      "Epoch 3/100\n",
      "4052/4052 [==============================] - 1s 363us/step - loss: 0.0054 - mean_squared_error: 0.0054 - val_loss: 0.0074 - val_mean_squared_error: 0.0074\n",
      "Epoch 4/100\n",
      "4052/4052 [==============================] - 1s 363us/step - loss: 0.0029 - mean_squared_error: 0.0029 - val_loss: 0.0043 - val_mean_squared_error: 0.0043\n",
      "Epoch 5/100\n",
      "4052/4052 [==============================] - 1s 363us/step - loss: 0.0024 - mean_squared_error: 0.0024 - val_loss: 0.0031 - val_mean_squared_error: 0.0031\n",
      "Epoch 6/100\n",
      "4052/4052 [==============================] - 1s 364us/step - loss: 0.0022 - mean_squared_error: 0.0022 - val_loss: 0.0022 - val_mean_squared_error: 0.0022\n",
      "Epoch 7/100\n",
      "4052/4052 [==============================] - 1s 363us/step - loss: 0.0018 - mean_squared_error: 0.0018 - val_loss: 0.0018 - val_mean_squared_error: 0.0018\n",
      "Epoch 8/100\n",
      "4052/4052 [==============================] - 1s 360us/step - loss: 0.0017 - mean_squared_error: 0.0017 - val_loss: 0.0015 - val_mean_squared_error: 0.0015\n",
      "Epoch 9/100\n",
      "4052/4052 [==============================] - 1s 360us/step - loss: 0.0015 - mean_squared_error: 0.0015 - val_loss: 0.0011 - val_mean_squared_error: 0.0011\n",
      "Epoch 10/100\n",
      "4052/4052 [==============================] - 1s 366us/step - loss: 0.0014 - mean_squared_error: 0.0014 - val_loss: 9.7422e-04 - val_mean_squared_error: 9.7422e-04\n",
      "Epoch 11/100\n",
      "4052/4052 [==============================] - 1s 362us/step - loss: 0.0013 - mean_squared_error: 0.0013 - val_loss: 8.5055e-04 - val_mean_squared_error: 8.5055e-04\n",
      "Epoch 12/100\n",
      "4052/4052 [==============================] - 1s 368us/step - loss: 0.0012 - mean_squared_error: 0.0012 - val_loss: 6.3013e-04 - val_mean_squared_error: 6.3013e-04\n",
      "Epoch 13/100\n",
      "4052/4052 [==============================] - 1s 362us/step - loss: 0.0011 - mean_squared_error: 0.0011 - val_loss: 5.5231e-04 - val_mean_squared_error: 5.5231e-04\n",
      "Epoch 14/100\n",
      "4052/4052 [==============================] - 2s 376us/step - loss: 0.0011 - mean_squared_error: 0.0011 - val_loss: 4.9040e-04 - val_mean_squared_error: 4.9040e-04\n",
      "Epoch 15/100\n",
      "4052/4052 [==============================] - 1s 360us/step - loss: 0.0010 - mean_squared_error: 0.0010 - val_loss: 3.9614e-04 - val_mean_squared_error: 3.9614e-04\n",
      "Epoch 16/100\n",
      "4052/4052 [==============================] - 1s 360us/step - loss: 9.6420e-04 - mean_squared_error: 9.6420e-04 - val_loss: 3.7934e-04 - val_mean_squared_error: 3.7934e-04\n",
      "Epoch 17/100\n",
      "4052/4052 [==============================] - 1s 362us/step - loss: 9.4186e-04 - mean_squared_error: 9.4186e-04 - val_loss: 3.3556e-04 - val_mean_squared_error: 3.3556e-04\n",
      "Epoch 18/100\n",
      "4052/4052 [==============================] - 1s 361us/step - loss: 9.1451e-04 - mean_squared_error: 9.1451e-04 - val_loss: 3.3405e-04 - val_mean_squared_error: 3.3405e-04\n",
      "Epoch 19/100\n",
      "4052/4052 [==============================] - 1s 364us/step - loss: 9.2139e-04 - mean_squared_error: 9.2139e-04 - val_loss: 3.3476e-04 - val_mean_squared_error: 3.3476e-04\n",
      "Epoch 20/100\n",
      "4052/4052 [==============================] - 1s 365us/step - loss: 8.4011e-04 - mean_squared_error: 8.4011e-04 - val_loss: 3.1122e-04 - val_mean_squared_error: 3.1122e-04\n",
      "Epoch 21/100\n",
      "4052/4052 [==============================] - 1s 361us/step - loss: 8.6922e-04 - mean_squared_error: 8.6922e-04 - val_loss: 3.0296e-04 - val_mean_squared_error: 3.0296e-04\n",
      "Epoch 22/100\n",
      "4052/4052 [==============================] - 1s 366us/step - loss: 8.2123e-04 - mean_squared_error: 8.2123e-04 - val_loss: 2.6208e-04 - val_mean_squared_error: 2.6208e-04\n",
      "Epoch 23/100\n",
      "4052/4052 [==============================] - 1s 362us/step - loss: 7.8882e-04 - mean_squared_error: 7.8882e-04 - val_loss: 2.5925e-04 - val_mean_squared_error: 2.5925e-04\n",
      "Epoch 24/100\n",
      "4052/4052 [==============================] - 2s 372us/step - loss: 7.5711e-04 - mean_squared_error: 7.5711e-04 - val_loss: 2.4022e-04 - val_mean_squared_error: 2.4022e-04\n",
      "Epoch 25/100\n",
      "4052/4052 [==============================] - 1s 362us/step - loss: 7.4709e-04 - mean_squared_error: 7.4709e-04 - val_loss: 2.3494e-04 - val_mean_squared_error: 2.3494e-04\n",
      "Epoch 26/100\n",
      "4052/4052 [==============================] - 1s 367us/step - loss: 7.5347e-04 - mean_squared_error: 7.5347e-04 - val_loss: 2.1885e-04 - val_mean_squared_error: 2.1885e-04\n",
      "Epoch 27/100\n",
      "4052/4052 [==============================] - 1s 361us/step - loss: 6.9737e-04 - mean_squared_error: 6.9737e-04 - val_loss: 2.2472e-04 - val_mean_squared_error: 2.2472e-04\n",
      "Epoch 28/100\n",
      "4052/4052 [==============================] - 1s 366us/step - loss: 6.6238e-04 - mean_squared_error: 6.6238e-04 - val_loss: 2.1929e-04 - val_mean_squared_error: 2.1929e-04\n",
      "Epoch 29/100\n",
      "4052/4052 [==============================] - 1s 366us/step - loss: 6.7395e-04 - mean_squared_error: 6.7395e-04 - val_loss: 2.1683e-04 - val_mean_squared_error: 2.1683e-04\n",
      "Epoch 30/100\n",
      "4052/4052 [==============================] - 1s 364us/step - loss: 6.6804e-04 - mean_squared_error: 6.6804e-04 - val_loss: 2.1781e-04 - val_mean_squared_error: 2.1781e-04\n",
      "Epoch 31/100\n",
      "4052/4052 [==============================] - 2s 378us/step - loss: 6.6721e-04 - mean_squared_error: 6.6721e-04 - val_loss: 2.1373e-04 - val_mean_squared_error: 2.1373e-04\n",
      "Epoch 32/100\n",
      "4052/4052 [==============================] - 2s 381us/step - loss: 6.9050e-04 - mean_squared_error: 6.9050e-04 - val_loss: 2.2142e-04 - val_mean_squared_error: 2.2142e-04\n",
      "Epoch 33/100\n",
      "4052/4052 [==============================] - 2s 382us/step - loss: 6.6346e-04 - mean_squared_error: 6.6346e-04 - val_loss: 2.3016e-04 - val_mean_squared_error: 2.3016e-04\n",
      "Epoch 34/100\n",
      "4052/4052 [==============================] - 1s 362us/step - loss: 6.4765e-04 - mean_squared_error: 6.4765e-04 - val_loss: 2.2794e-04 - val_mean_squared_error: 2.2794e-04\n",
      "Epoch 35/100\n",
      "4052/4052 [==============================] - 1s 364us/step - loss: 5.9061e-04 - mean_squared_error: 5.9061e-04 - val_loss: 2.5301e-04 - val_mean_squared_error: 2.5301e-04\n",
      "Epoch 36/100\n",
      "4052/4052 [==============================] - 1s 363us/step - loss: 6.3293e-04 - mean_squared_error: 6.3293e-04 - val_loss: 2.6748e-04 - val_mean_squared_error: 2.6748e-04\n",
      "Epoch 37/100\n",
      "4052/4052 [==============================] - 1s 363us/step - loss: 6.0524e-04 - mean_squared_error: 6.0524e-04 - val_loss: 2.4340e-04 - val_mean_squared_error: 2.4340e-04\n",
      "Epoch 38/100\n",
      "4052/4052 [==============================] - 1s 365us/step - loss: 6.2724e-04 - mean_squared_error: 6.2724e-04 - val_loss: 2.6164e-04 - val_mean_squared_error: 2.6164e-04\n",
      "Epoch 39/100\n",
      "4052/4052 [==============================] - 1s 363us/step - loss: 6.2228e-04 - mean_squared_error: 6.2228e-04 - val_loss: 2.9870e-04 - val_mean_squared_error: 2.9870e-04\n",
      "Epoch 40/100\n",
      "4052/4052 [==============================] - 1s 362us/step - loss: 6.1138e-04 - mean_squared_error: 6.1138e-04 - val_loss: 2.7863e-04 - val_mean_squared_error: 2.7863e-04\n",
      "Epoch 41/100\n",
      "4052/4052 [==============================] - 1s 368us/step - loss: 6.2900e-04 - mean_squared_error: 6.2900e-04 - val_loss: 2.7894e-04 - val_mean_squared_error: 2.7894e-04\n",
      "Epoch 42/100\n",
      "4052/4052 [==============================] - 1s 366us/step - loss: 6.1760e-04 - mean_squared_error: 6.1760e-04 - val_loss: 2.8346e-04 - val_mean_squared_error: 2.8346e-04\n",
      "Epoch 43/100\n",
      "4052/4052 [==============================] - 1s 364us/step - loss: 6.0655e-04 - mean_squared_error: 6.0655e-04 - val_loss: 3.1809e-04 - val_mean_squared_error: 3.1809e-04\n",
      "Epoch 44/100\n",
      "4052/4052 [==============================] - 1s 367us/step - loss: 6.1680e-04 - mean_squared_error: 6.1680e-04 - val_loss: 3.0087e-04 - val_mean_squared_error: 3.0087e-04\n",
      "Epoch 45/100\n",
      "4052/4052 [==============================] - 1s 362us/step - loss: 5.9614e-04 - mean_squared_error: 5.9614e-04 - val_loss: 2.9864e-04 - val_mean_squared_error: 2.9864e-04\n",
      "Epoch 00045: early stopping\n"
     ]
    }
   ],
   "source": [
    "log = model.fit(X_train, Y_train, epochs=epoch, batch_size=batch_size, \n",
    "                validation_data=(X_val,Y_val),shuffle=False,\n",
    "                callbacks=[early_stopping])"
   ]
  },
  {
   "cell_type": "code",
   "execution_count": 336,
   "metadata": {
    "scrolled": true
   },
   "outputs": [
    {
     "data": {
      "image/png": "[encoded data removed]",
      "text/plain": [
       "<Figure size 600x300 with 1 Axes>"
      ]
     },
     "metadata": {},
     "output_type": "display_data"
    }
   ],
   "source": [
    "figure, ax = plt.subplots()\n",
    "plt.plot(log.history['loss'], label='loss')\n",
    "plt.plot(log.history['val_loss'], label='val_loss')\n",
    "figure.set_size_inches(6, 3)\n",
    "ax.legend(('loss', 'val_loss'), loc='best', framealpha=0.25, prop={'size': 'small', 'family': 'monospace'})\n",
    "\n",
    "ax.set_title('training loss')\n",
    "ax.set_xlabel('epoch')\n",
    "ax.set_ylabel('loss')\n",
    "\n",
    "ax.grid(True)\n",
    "figure.tight_layout()"
   ]
  },
  {
   "cell_type": "code",
   "execution_count": 296,
   "metadata": {
    "collapsed": true
   },
   "outputs": [],
   "source": [
    "model.save('LSTM_stock.h5')  "
   ]
  },
  {
   "cell_type": "markdown",
   "metadata": {},
   "source": [
    "## Testing & Evaluation"
   ]
  },
  {
   "cell_type": "code",
   "execution_count": 309,
   "metadata": {},
   "outputs": [
    {
     "name": "stdout",
     "output_type": "stream",
     "text": [
      "1021/1021 [==============================] - 0s 232us/step\n"
     ]
    }
   ],
   "source": [
    "Y_predict = model.predict(X_test)\n",
    "test_loss = model.evaluate(X_test, Y_test)"
   ]
  },
  {
   "cell_type": "code",
   "execution_count": 312,
   "metadata": {},
   "outputs": [
    {
     "name": "stdout",
     "output_type": "stream",
     "text": [
      "Mean Square error: 0.00226554930065079\n"
     ]
    }
   ],
   "source": [
    "print(\"Mean Square error:\", test_loss[0])"
   ]
  },
  {
   "cell_type": "markdown",
   "metadata": {},
   "source": [
    "## Visaulization the results"
   ]
  },
  {
   "cell_type": "code",
   "execution_count": 329,
   "metadata": {},
   "outputs": [
    {
     "data": {
      "image/png": "[encoded data removed]",
      "text/plain": [
       "<Figure size 1000x500 with 1 Axes>"
      ]
     },
     "metadata": {},
     "output_type": "display_data"
    }
   ],
   "source": [
    "fig, ax = plt.subplots()\n",
    "fig.set_size_inches(10, 5)\n",
    "plt.plot(Y_test, label = 'Real SMA at T+29') \n",
    "plt.plot(Y_predict, label = 'Predicted SMA at T+29')\n",
    "plt.title('30 days simple moving average')\n",
    "plt.xlabel('SMA value')\n",
    "plt.ylabel('Time')\n",
    "plt.legend()\n",
    "plt.show()"
   ]
  },
  {
   "cell_type": "code",
   "execution_count": null,
   "metadata": {
    "collapsed": true
   },
   "outputs": [],
   "source": []
  }
 ],
 "metadata": {
  "kernelspec": {
   "display_name": "Python [conda env:yx_tf1.12]",
   "language": "python",
   "name": "conda-env-yx_tf1.12-py"
  },
  "language_info": {
   "codemirror_mode": {
    "name": "ipython",
    "version": 3
   },
   "file_extension": ".py",
   "mimetype": "text/x-python",
   "name": "python",
   "nbconvert_exporter": "python",
   "pygments_lexer": "ipython3",
   "version": "3.6.10"
  }
 },
 "nbformat": 4,
 "nbformat_minor": 2
}
